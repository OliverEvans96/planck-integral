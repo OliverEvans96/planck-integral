{
  "nbformat": 4,
  "nbformat_minor": 0,
  "metadata": {
    "colab": {
      "provenance": [],
      "authorship_tag": "ABX9TyOn0arzsbO+BdZizzxromz6",
      "include_colab_link": true
    },
    "kernelspec": {
      "name": "python3",
      "display_name": "Python 3"
    },
    "language_info": {
      "name": "python"
    }
  },
  "cells": [
    {
      "cell_type": "markdown",
      "metadata": {
        "id": "view-in-github",
        "colab_type": "text"
      },
      "source": [
        "<a href=\"https://colab.research.google.com/github/OliverEvans96/planck-integral/blob/main/NumericalBenchmarks.ipynb\" target=\"_parent\"><img src=\"https://colab.research.google.com/assets/colab-badge.svg\" alt=\"Open In Colab\"/></a>"
      ]
    },
    {
      "cell_type": "code",
      "execution_count": 2,
      "metadata": {
        "id": "eXeSsvANImMB"
      },
      "outputs": [],
      "source": [
        "from mpmath import mp\n",
        "from scipy import constants as const\n",
        "import numpy as np\n",
        "import matplotlib.pyplot as plt\n",
        "import sympy as sp"
      ]
    },
    {
      "cell_type": "code",
      "source": [
        "mp.dps = 50"
      ],
      "metadata": {
        "id": "jHH6kzV-IohE"
      },
      "execution_count": 3,
      "outputs": []
    },
    {
      "cell_type": "code",
      "source": [
        "T_0 = 6007 # Kelvin"
      ],
      "metadata": {
        "id": "4VflB-Y4MBS1"
      },
      "execution_count": 37,
      "outputs": []
    },
    {
      "cell_type": "code",
      "source": [
        "print(mp.quad(lambda x: mp.exp(-x**2), [-mp.inf, mp.inf]) ** 2)"
      ],
      "metadata": {
        "colab": {
          "base_uri": "https://localhost:8080/"
        },
        "id": "OHfVB2KfI3ON",
        "outputId": "32f6d9ff-cbfb-47e2-f5c7-bc17d317d122"
      },
      "execution_count": 4,
      "outputs": [
        {
          "output_type": "stream",
          "name": "stdout",
          "text": [
            "3.1415926535897932384626433832795028841971693993751\n"
          ]
        }
      ]
    },
    {
      "cell_type": "code",
      "source": [
        "def plancks_law(nu, T):\n",
        "  return 2 * const.h * nu**3 / ((mp.exp(const.h * nu / (const.k * T)) - 1) * const.c**2 )"
      ],
      "metadata": {
        "id": "qivvCosJI3gN"
      },
      "execution_count": 5,
      "outputs": []
    },
    {
      "cell_type": "code",
      "source": [
        "sp_h, sp_k, sp_c, sp_nu, sp_T = sp.var('h, k, c, nu, T')"
      ],
      "metadata": {
        "id": "4qza0TCqSJTN"
      },
      "execution_count": 6,
      "outputs": []
    },
    {
      "cell_type": "code",
      "source": [
        "def plancks_law_sym(nu, T):\n",
        "  return 2 * sp_h * nu**3 / ((sp.exp(sp_h * nu / (sp_k * T)) - 1) * sp_c**2 )"
      ],
      "metadata": {
        "id": "4y6yzaOTSHjO"
      },
      "execution_count": 7,
      "outputs": []
    },
    {
      "cell_type": "code",
      "source": [
        "crit_eq = sp.Eq(sp.diff(plancks_law_sym(sp_nu, sp_T), sp_nu), 0)\n",
        "crit_eq"
      ],
      "metadata": {
        "colab": {
          "base_uri": "https://localhost:8080/",
          "height": 77
        },
        "id": "rS6CM91wSekP",
        "outputId": "b0df5180-fb30-49cb-a439-f9c8a647df74"
      },
      "execution_count": 26,
      "outputs": [
        {
          "output_type": "execute_result",
          "data": {
            "text/plain": [
              "Eq(6*h*nu**2/(c**2*(exp(h*nu/(T*k)) - 1)) - 2*h**2*nu**3*exp(h*nu/(T*k))/(T*c**2*k*(exp(h*nu/(T*k)) - 1)**2), 0)"
            ],
            "text/latex": "$\\displaystyle \\frac{6 h \\nu^{2}}{c^{2} \\left(e^{\\frac{h \\nu}{T k}} - 1\\right)} - \\frac{2 h^{2} \\nu^{3} e^{\\frac{h \\nu}{T k}}}{T c^{2} k \\left(e^{\\frac{h \\nu}{T k}} - 1\\right)^{2}} = 0$"
          },
          "metadata": {},
          "execution_count": 26
        }
      ]
    },
    {
      "cell_type": "code",
      "source": [
        "sp_x = sp.var('x')"
      ],
      "metadata": {
        "id": "plompOay87-J"
      },
      "execution_count": 12,
      "outputs": []
    },
    {
      "cell_type": "code",
      "source": [
        "crit_eq_x = crit_eq.subs(sp_h*sp_nu/(sp_T*sp_k), sp_x)\n",
        "crit_eq_x"
      ],
      "metadata": {
        "colab": {
          "base_uri": "https://localhost:8080/",
          "height": 61
        },
        "id": "yc4w01EP-QzB",
        "outputId": "761991ab-7ab0-4e0f-e601-0533ddfad8ba"
      },
      "execution_count": 28,
      "outputs": [
        {
          "output_type": "execute_result",
          "data": {
            "text/plain": [
              "Eq(-2*h*nu**2*x*exp(x)/(c**2*(exp(x) - 1)**2) + 6*h*nu**2/(c**2*(exp(x) - 1)), 0)"
            ],
            "text/latex": "$\\displaystyle - \\frac{2 h \\nu^{2} x e^{x}}{c^{2} \\left(e^{x} - 1\\right)^{2}} + \\frac{6 h \\nu^{2}}{c^{2} \\left(e^{x} - 1\\right)} = 0$"
          },
          "metadata": {},
          "execution_count": 28
        }
      ]
    },
    {
      "cell_type": "code",
      "source": [
        "sp.simplify(crit_eq_x)"
      ],
      "metadata": {
        "colab": {
          "base_uri": "https://localhost:8080/",
          "height": 61
        },
        "id": "iuZf1zay8Y9_",
        "outputId": "640a9464-5281-4bf1-b18c-cb4d1114c0fe"
      },
      "execution_count": 17,
      "outputs": [
        {
          "output_type": "execute_result",
          "data": {
            "text/plain": [
              "Eq(2*h*nu**2*(-x*exp(x) + 3*exp(x) - 3)/(c**2*(1 - exp(x))**2), 0)"
            ],
            "text/latex": "$\\displaystyle \\frac{2 h \\nu^{2} \\left(- x e^{x} + 3 e^{x} - 3\\right)}{c^{2} \\left(1 - e^{x}\\right)^{2}} = 0$"
          },
          "metadata": {},
          "execution_count": 17
        }
      ]
    },
    {
      "cell_type": "code",
      "source": [
        "sp.solve(crit_eq_x, sp_x)"
      ],
      "metadata": {
        "colab": {
          "base_uri": "https://localhost:8080/"
        },
        "id": "0jTxQ0bUTDnG",
        "outputId": "d8d3cfe5-de63-499a-b64e-9d5c49d4fac8"
      },
      "execution_count": 16,
      "outputs": [
        {
          "output_type": "execute_result",
          "data": {
            "text/plain": [
              "[]"
            ]
          },
          "metadata": {},
          "execution_count": 16
        }
      ]
    },
    {
      "cell_type": "code",
      "source": [
        "def peak_eq(x):\n",
        "  return -x * mp.exp(x) + 3 * mp.exp(x) - 3"
      ],
      "metadata": {
        "id": "PmeHawsV_dx6"
      },
      "execution_count": 29,
      "outputs": []
    },
    {
      "cell_type": "code",
      "source": [
        "x_val = mp.findroot(peak_eq, 2.8)\n",
        "print(x_val)"
      ],
      "metadata": {
        "colab": {
          "base_uri": "https://localhost:8080/"
        },
        "id": "vjE1IY2Y_yQ3",
        "outputId": "786c30d5-0554-4750-9901-4375b1cc39f6"
      },
      "execution_count": 32,
      "outputs": [
        {
          "output_type": "stream",
          "name": "stdout",
          "text": [
            "2.8214393721220788934031913302944851953458817440731\n"
          ]
        }
      ]
    },
    {
      "cell_type": "code",
      "source": [
        "peak_freq = x_val * const.k * T_0 / const.h\n",
        "print(peak_freq)"
      ],
      "metadata": {
        "colab": {
          "base_uri": "https://localhost:8080/"
        },
        "id": "sqwZbcRQAXvb",
        "outputId": "614600ce-4e7e-42a1-fa2e-f1ddba3a781b"
      },
      "execution_count": 36,
      "outputs": [
        {
          "output_type": "stream",
          "name": "stdout",
          "text": [
            "353147070261844.80718870662046063248218291440882952\n"
          ]
        }
      ]
    },
    {
      "cell_type": "code",
      "source": [
        "mp.quad(lambda nu: plancks_law(nu, T_0), [0, peak_freq])"
      ],
      "metadata": {
        "colab": {
          "base_uri": "https://localhost:8080/"
        },
        "id": "mlr5mwSPAMHX",
        "outputId": "89a0f23e-07e5-45b4-e8b8-8366983d9945"
      },
      "execution_count": 38,
      "outputs": [
        {
          "output_type": "execute_result",
          "data": {
            "text/plain": [
              "mpf('8319315.4051414121801213118798474992031764044186799178')"
            ]
          },
          "metadata": {},
          "execution_count": 38
        }
      ]
    },
    {
      "cell_type": "code",
      "source": [
        "nu_arr = np.linspace(1, 1e15, 10000) # Hz"
      ],
      "metadata": {
        "id": "rLGZikmOLq0R"
      },
      "execution_count": 40,
      "outputs": []
    },
    {
      "cell_type": "code",
      "source": [
        "B_arr = np.array([plancks_law(nu, T_0) for nu in nu_arr])\n",
        "B_max = np.max(B_arr)"
      ],
      "metadata": {
        "id": "XpsgyLkpL7Eb"
      },
      "execution_count": 43,
      "outputs": []
    },
    {
      "cell_type": "code",
      "source": [
        "plt.plot(nu_arr, B_arr, label=f'Planck(Hz, {T_0} K)')\n",
        "plt.xlabel('nu')\n",
        "plt.ylabel('B')\n",
        "plt.vlines([peak_freq], 0, B_max, color='C1', ls='--', label='Peak frequency')\n",
        "plt.legend()"
      ],
      "metadata": {
        "colab": {
          "base_uri": "https://localhost:8080/",
          "height": 482
        },
        "id": "aBTzqx3JL0_h",
        "outputId": "540cddb9-8145-42ab-e9d5-acf004ac45f1"
      },
      "execution_count": 51,
      "outputs": [
        {
          "output_type": "execute_result",
          "data": {
            "text/plain": [
              "<matplotlib.legend.Legend at 0x7e7dd421a890>"
            ]
          },
          "metadata": {},
          "execution_count": 51
        },
        {
          "output_type": "display_data",
          "data": {
            "text/plain": [
              "<Figure size 640x480 with 1 Axes>"
            ],
            "image/png": "[encoded data removed]"
          },
          "metadata": {}
        }
      ]
    },
    {
      "cell_type": "code",
      "source": [
        "# Test mpmath precision"
      ],
      "metadata": {
        "id": "wi-vEi-uNiv-"
      },
      "execution_count": null,
      "outputs": []
    },
    {
      "cell_type": "code",
      "source": [
        "nu_0 = 877253052027857.375 # Hz\n",
        "digits_range = list(range(1, 100))\n",
        "integral_vals = []\n",
        "for num_digits in digits_range:\n",
        "  mp.dps = num_digits\n",
        "  integral = mp.quad(lambda nu: plancks_law(nu, T_0), [0, nu_0])\n",
        "  integral_vals.append(integral)\n",
        "\n",
        "final_ans = integral_vals[-1]\n",
        "err_arr = []\n",
        "for ans in integral_vals[:-1]:\n",
        "  err = np.abs(ans - final_ans)\n",
        "  err_arr.append(err)"
      ],
      "metadata": {
        "id": "6bEyMwgrLWLx"
      },
      "execution_count": 67,
      "outputs": []
    },
    {
      "cell_type": "code",
      "source": [
        "plt.plot(digits_range[:-1], err_arr)\n",
        "plt.yscale('log')\n",
        "plt.xlabel('requested precision (decimal digits)')\n",
        "plt.ylabel('error')"
      ],
      "metadata": {
        "colab": {
          "base_uri": "https://localhost:8080/",
          "height": 466
        },
        "id": "pmHkhruuOZFK",
        "outputId": "61560722-ddb3-478e-8231-35485672ebe1"
      },
      "execution_count": 69,
      "outputs": [
        {
          "output_type": "execute_result",
          "data": {
            "text/plain": [
              "Text(0, 0.5, 'error')"
            ]
          },
          "metadata": {},
          "execution_count": 69
        },
        {
          "output_type": "display_data",
          "data": {
            "text/plain": [
              "<Figure size 640x480 with 1 Axes>"
            ],
            "image/png": "[encoded data removed]"
          },
          "metadata": {}
        }
      ]
    },
    {
      "cell_type": "code",
      "source": [
        "len('47942761616209850217273924499750137329101563')"
      ],
      "metadata": {
        "colab": {
          "base_uri": "https://localhost:8080/"
        },
        "id": "vjklZqCOOiJq",
        "outputId": "e3ecbe41-06cb-4059-df9e-28a14e89360d"
      },
      "execution_count": 59,
      "outputs": [
        {
          "output_type": "execute_result",
          "data": {
            "text/plain": [
              "44"
            ]
          },
          "metadata": {},
          "execution_count": 59
        }
      ]
    },
    {
      "cell_type": "code",
      "source": [
        "integral = mp.quad(lambda x: plancks_law(x, T_0), [0, nu_0])\n",
        "print(integral)"
      ],
      "metadata": {
        "colab": {
          "base_uri": "https://localhost:8080/"
        },
        "id": "vKqI_wMBLJEi",
        "outputId": "22775b90-7987-4813-b582-c75ce4391b9d"
      },
      "execution_count": 50,
      "outputs": [
        {
          "output_type": "stream",
          "name": "stdout",
          "text": [
            "21735125.479427616162099082456733700601438688200739\n"
          ]
        }
      ]
    },
    {
      "cell_type": "code",
      "source": [
        "integral"
      ],
      "metadata": {
        "colab": {
          "base_uri": "https://localhost:8080/"
        },
        "id": "GlywXm0tOIkf",
        "outputId": "03db3a7c-453d-46be-a109-9bafd3b83875"
      },
      "execution_count": 51,
      "outputs": [
        {
          "output_type": "execute_result",
          "data": {
            "text/plain": [
              "mpf('21735125.479427616162099082456733700601438688200739144')"
            ]
          },
          "metadata": {},
          "execution_count": 51
        }
      ]
    },
    {
      "cell_type": "code",
      "source": [],
      "metadata": {
        "id": "NdpsYeRAOI6O"
      },
      "execution_count": null,
      "outputs": []
    }
  ]
}