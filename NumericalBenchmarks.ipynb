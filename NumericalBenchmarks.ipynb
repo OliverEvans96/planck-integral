{
  "nbformat": 4,
  "nbformat_minor": 0,
  "metadata": {
    "colab": {
      "provenance": [],
      "authorship_tag": "ABX9TyP2p7FfoLilZwZDXGO7A7wC",
      "include_colab_link": true
    },
    "kernelspec": {
      "name": "python3",
      "display_name": "Python 3"
    },
    "language_info": {
      "name": "python"
    },
    "widgets": {
      "application/vnd.jupyter.widget-state+json": {
        "e44f3858303144b58011f80615d0bacb": {
          "model_module": "@jupyter-widgets/controls",
          "model_name": "HBoxModel",
          "model_module_version": "1.5.0",
          "state": {
            "_dom_classes": [],
            "_model_module": "@jupyter-widgets/controls",
            "_model_module_version": "1.5.0",
            "_model_name": "HBoxModel",
            "_view_count": null,
            "_view_module": "@jupyter-widgets/controls",
            "_view_module_version": "1.5.0",
            "_view_name": "HBoxView",
            "box_style": "",
            "children": [
              "IPY_MODEL_592ffc140eb848fc990b4511ff4b46b6",
              "IPY_MODEL_b69a75bf3efc487bb8d1e115c4fe59d3",
              "IPY_MODEL_aba3390eb7d049d1b62ecfccfa1faa23"
            ],
            "layout": "IPY_MODEL_5d6f26da1e4d4f63a18b023362b428ca"
          }
        },
        "592ffc140eb848fc990b4511ff4b46b6": {
          "model_module": "@jupyter-widgets/controls",
          "model_name": "HTMLModel",
          "model_module_version": "1.5.0",
          "state": {
            "_dom_classes": [],
            "_model_module": "@jupyter-widgets/controls",
            "_model_module_version": "1.5.0",
            "_model_name": "HTMLModel",
            "_view_count": null,
            "_view_module": "@jupyter-widgets/controls",
            "_view_module_version": "1.5.0",
            "_view_name": "HTMLView",
            "description": "",
            "description_tooltip": null,
            "layout": "IPY_MODEL_83871cdc070343e280cceb8f52838e13",
            "placeholder": "​",
            "style": "IPY_MODEL_333fa7fcc0b04eb588e6def274664bd5",
            "value": "100%"
          }
        },
        "b69a75bf3efc487bb8d1e115c4fe59d3": {
          "model_module": "@jupyter-widgets/controls",
          "model_name": "FloatProgressModel",
          "model_module_version": "1.5.0",
          "state": {
            "_dom_classes": [],
            "_model_module": "@jupyter-widgets/controls",
            "_model_module_version": "1.5.0",
            "_model_name": "FloatProgressModel",
            "_view_count": null,
            "_view_module": "@jupyter-widgets/controls",
            "_view_module_version": "1.5.0",
            "_view_name": "ProgressView",
            "bar_style": "success",
            "description": "",
            "description_tooltip": null,
            "layout": "IPY_MODEL_672993902dd04e75805c17699a27d065",
            "max": 2048,
            "min": 0,
            "orientation": "horizontal",
            "style": "IPY_MODEL_1eb477abf1f946afaa5690bb5aefe6d9",
            "value": 2048
          }
        },
        "aba3390eb7d049d1b62ecfccfa1faa23": {
          "model_module": "@jupyter-widgets/controls",
          "model_name": "HTMLModel",
          "model_module_version": "1.5.0",
          "state": {
            "_dom_classes": [],
            "_model_module": "@jupyter-widgets/controls",
            "_model_module_version": "1.5.0",
            "_model_name": "HTMLModel",
            "_view_count": null,
            "_view_module": "@jupyter-widgets/controls",
            "_view_module_version": "1.5.0",
            "_view_name": "HTMLView",
            "description": "",
            "description_tooltip": null,
            "layout": "IPY_MODEL_0c583ed401ba4395960ea1352cd2b940",
            "placeholder": "​",
            "style": "IPY_MODEL_030cc1495a15466e8bb76f67418260a3",
            "value": " 2048/2048 [00:33&lt;00:00, 66.45it/s]"
          }
        },
        "5d6f26da1e4d4f63a18b023362b428ca": {
          "model_module": "@jupyter-widgets/base",
          "model_name": "LayoutModel",
          "model_module_version": "1.2.0",
          "state": {
            "_model_module": "@jupyter-widgets/base",
            "_model_module_version": "1.2.0",
            "_model_name": "LayoutModel",
            "_view_count": null,
            "_view_module": "@jupyter-widgets/base",
            "_view_module_version": "1.2.0",
            "_view_name": "LayoutView",
            "align_content": null,
            "align_items": null,
            "align_self": null,
            "border": null,
            "bottom": null,
            "display": null,
            "flex": null,
            "flex_flow": null,
            "grid_area": null,
            "grid_auto_columns": null,
            "grid_auto_flow": null,
            "grid_auto_rows": null,
            "grid_column": null,
            "grid_gap": null,
            "grid_row": null,
            "grid_template_areas": null,
            "grid_template_columns": null,
            "grid_template_rows": null,
            "height": null,
            "justify_content": null,
            "justify_items": null,
            "left": null,
            "margin": null,
            "max_height": null,
            "max_width": null,
            "min_height": null,
            "min_width": null,
            "object_fit": null,
            "object_position": null,
            "order": null,
            "overflow": null,
            "overflow_x": null,
            "overflow_y": null,
            "padding": null,
            "right": null,
            "top": null,
            "visibility": null,
            "width": null
          }
        },
        "83871cdc070343e280cceb8f52838e13": {
          "model_module": "@jupyter-widgets/base",
          "model_name": "LayoutModel",
          "model_module_version": "1.2.0",
          "state": {
            "_model_module": "@jupyter-widgets/base",
            "_model_module_version": "1.2.0",
            "_model_name": "LayoutModel",
            "_view_count": null,
            "_view_module": "@jupyter-widgets/base",
            "_view_module_version": "1.2.0",
            "_view_name": "LayoutView",
            "align_content": null,
            "align_items": null,
            "align_self": null,
            "border": null,
            "bottom": null,
            "display": null,
            "flex": null,
            "flex_flow": null,
            "grid_area": null,
            "grid_auto_columns": null,
            "grid_auto_flow": null,
            "grid_auto_rows": null,
            "grid_column": null,
            "grid_gap": null,
            "grid_row": null,
            "grid_template_areas": null,
            "grid_template_columns": null,
            "grid_template_rows": null,
            "height": null,
            "justify_content": null,
            "justify_items": null,
            "left": null,
            "margin": null,
            "max_height": null,
            "max_width": null,
            "min_height": null,
            "min_width": null,
            "object_fit": null,
            "object_position": null,
            "order": null,
            "overflow": null,
            "overflow_x": null,
            "overflow_y": null,
            "padding": null,
            "right": null,
            "top": null,
            "visibility": null,
            "width": null
          }
        },
        "333fa7fcc0b04eb588e6def274664bd5": {
          "model_module": "@jupyter-widgets/controls",
          "model_name": "DescriptionStyleModel",
          "model_module_version": "1.5.0",
          "state": {
            "_model_module": "@jupyter-widgets/controls",
            "_model_module_version": "1.5.0",
            "_model_name": "DescriptionStyleModel",
            "_view_count": null,
            "_view_module": "@jupyter-widgets/base",
            "_view_module_version": "1.2.0",
            "_view_name": "StyleView",
            "description_width": ""
          }
        },
        "672993902dd04e75805c17699a27d065": {
          "model_module": "@jupyter-widgets/base",
          "model_name": "LayoutModel",
          "model_module_version": "1.2.0",
          "state": {
            "_model_module": "@jupyter-widgets/base",
            "_model_module_version": "1.2.0",
            "_model_name": "LayoutModel",
            "_view_count": null,
            "_view_module": "@jupyter-widgets/base",
            "_view_module_version": "1.2.0",
            "_view_name": "LayoutView",
            "align_content": null,
            "align_items": null,
            "align_self": null,
            "border": null,
            "bottom": null,
            "display": null,
            "flex": null,
            "flex_flow": null,
            "grid_area": null,
            "grid_auto_columns": null,
            "grid_auto_flow": null,
            "grid_auto_rows": null,
            "grid_column": null,
            "grid_gap": null,
            "grid_row": null,
            "grid_template_areas": null,
            "grid_template_columns": null,
            "grid_template_rows": null,
            "height": null,
            "justify_content": null,
            "justify_items": null,
            "left": null,
            "margin": null,
            "max_height": null,
            "max_width": null,
            "min_height": null,
            "min_width": null,
            "object_fit": null,
            "object_position": null,
            "order": null,
            "overflow": null,
            "overflow_x": null,
            "overflow_y": null,
            "padding": null,
            "right": null,
            "top": null,
            "visibility": null,
            "width": null
          }
        },
        "1eb477abf1f946afaa5690bb5aefe6d9": {
          "model_module": "@jupyter-widgets/controls",
          "model_name": "ProgressStyleModel",
          "model_module_version": "1.5.0",
          "state": {
            "_model_module": "@jupyter-widgets/controls",
            "_model_module_version": "1.5.0",
            "_model_name": "ProgressStyleModel",
            "_view_count": null,
            "_view_module": "@jupyter-widgets/base",
            "_view_module_version": "1.2.0",
            "_view_name": "StyleView",
            "bar_color": null,
            "description_width": ""
          }
        },
        "0c583ed401ba4395960ea1352cd2b940": {
          "model_module": "@jupyter-widgets/base",
          "model_name": "LayoutModel",
          "model_module_version": "1.2.0",
          "state": {
            "_model_module": "@jupyter-widgets/base",
            "_model_module_version": "1.2.0",
            "_model_name": "LayoutModel",
            "_view_count": null,
            "_view_module": "@jupyter-widgets/base",
            "_view_module_version": "1.2.0",
            "_view_name": "LayoutView",
            "align_content": null,
            "align_items": null,
            "align_self": null,
            "border": null,
            "bottom": null,
            "display": null,
            "flex": null,
            "flex_flow": null,
            "grid_area": null,
            "grid_auto_columns": null,
            "grid_auto_flow": null,
            "grid_auto_rows": null,
            "grid_column": null,
            "grid_gap": null,
            "grid_row": null,
            "grid_template_areas": null,
            "grid_template_columns": null,
            "grid_template_rows": null,
            "height": null,
            "justify_content": null,
            "justify_items": null,
            "left": null,
            "margin": null,
            "max_height": null,
            "max_width": null,
            "min_height": null,
            "min_width": null,
            "object_fit": null,
            "object_position": null,
            "order": null,
            "overflow": null,
            "overflow_x": null,
            "overflow_y": null,
            "padding": null,
            "right": null,
            "top": null,
            "visibility": null,
            "width": null
          }
        },
        "030cc1495a15466e8bb76f67418260a3": {
          "model_module": "@jupyter-widgets/controls",
          "model_name": "DescriptionStyleModel",
          "model_module_version": "1.5.0",
          "state": {
            "_model_module": "@jupyter-widgets/controls",
            "_model_module_version": "1.5.0",
            "_model_name": "DescriptionStyleModel",
            "_view_count": null,
            "_view_module": "@jupyter-widgets/base",
            "_view_module_version": "1.2.0",
            "_view_name": "StyleView",
            "description_width": ""
          }
        },
        "e1db65212ce148a18d269248ace32982": {
          "model_module": "@jupyter-widgets/controls",
          "model_name": "HBoxModel",
          "model_module_version": "1.5.0",
          "state": {
            "_dom_classes": [],
            "_model_module": "@jupyter-widgets/controls",
            "_model_module_version": "1.5.0",
            "_model_name": "HBoxModel",
            "_view_count": null,
            "_view_module": "@jupyter-widgets/controls",
            "_view_module_version": "1.5.0",
            "_view_name": "HBoxView",
            "box_style": "",
            "children": [
              "IPY_MODEL_50e8b02c9cfd4b6d9a7c1cadecdb16c1",
              "IPY_MODEL_0ab552c08e1740eb8c49c9d5d3d824e5",
              "IPY_MODEL_9c2d6ea59e584c93a0469892fda1d5d1"
            ],
            "layout": "IPY_MODEL_2453ca5d78f545f59a54efbe05749063"
          }
        },
        "50e8b02c9cfd4b6d9a7c1cadecdb16c1": {
          "model_module": "@jupyter-widgets/controls",
          "model_name": "HTMLModel",
          "model_module_version": "1.5.0",
          "state": {
            "_dom_classes": [],
            "_model_module": "@jupyter-widgets/controls",
            "_model_module_version": "1.5.0",
            "_model_name": "HTMLModel",
            "_view_count": null,
            "_view_module": "@jupyter-widgets/controls",
            "_view_module_version": "1.5.0",
            "_view_name": "HTMLView",
            "description": "",
            "description_tooltip": null,
            "layout": "IPY_MODEL_b9417128c5b54c5491520fb23811f044",
            "placeholder": "​",
            "style": "IPY_MODEL_9318d08eb2444b74b9df019c49ef9a03",
            "value": "100%"
          }
        },
        "0ab552c08e1740eb8c49c9d5d3d824e5": {
          "model_module": "@jupyter-widgets/controls",
          "model_name": "FloatProgressModel",
          "model_module_version": "1.5.0",
          "state": {
            "_dom_classes": [],
            "_model_module": "@jupyter-widgets/controls",
            "_model_module_version": "1.5.0",
            "_model_name": "FloatProgressModel",
            "_view_count": null,
            "_view_module": "@jupyter-widgets/controls",
            "_view_module_version": "1.5.0",
            "_view_name": "ProgressView",
            "bar_style": "success",
            "description": "",
            "description_tooltip": null,
            "layout": "IPY_MODEL_2ad4c336a09142c1b6c58b2c94ebd15e",
            "max": 2048,
            "min": 0,
            "orientation": "horizontal",
            "style": "IPY_MODEL_ac77c5a3cefc44e08c2f4ed1b7711eef",
            "value": 2048
          }
        },
        "9c2d6ea59e584c93a0469892fda1d5d1": {
          "model_module": "@jupyter-widgets/controls",
          "model_name": "HTMLModel",
          "model_module_version": "1.5.0",
          "state": {
            "_dom_classes": [],
            "_model_module": "@jupyter-widgets/controls",
            "_model_module_version": "1.5.0",
            "_model_name": "HTMLModel",
            "_view_count": null,
            "_view_module": "@jupyter-widgets/controls",
            "_view_module_version": "1.5.0",
            "_view_name": "HTMLView",
            "description": "",
            "description_tooltip": null,
            "layout": "IPY_MODEL_ad0d7d1738784fecaa633c2066bf884e",
            "placeholder": "​",
            "style": "IPY_MODEL_3a23c92aa3bb460ba558ef0bdf752b68",
            "value": " 2048/2048 [00:36&lt;00:00, 71.90it/s]"
          }
        },
        "2453ca5d78f545f59a54efbe05749063": {
          "model_module": "@jupyter-widgets/base",
          "model_name": "LayoutModel",
          "model_module_version": "1.2.0",
          "state": {
            "_model_module": "@jupyter-widgets/base",
            "_model_module_version": "1.2.0",
            "_model_name": "LayoutModel",
            "_view_count": null,
            "_view_module": "@jupyter-widgets/base",
            "_view_module_version": "1.2.0",
            "_view_name": "LayoutView",
            "align_content": null,
            "align_items": null,
            "align_self": null,
            "border": null,
            "bottom": null,
            "display": null,
            "flex": null,
            "flex_flow": null,
            "grid_area": null,
            "grid_auto_columns": null,
            "grid_auto_flow": null,
            "grid_auto_rows": null,
            "grid_column": null,
            "grid_gap": null,
            "grid_row": null,
            "grid_template_areas": null,
            "grid_template_columns": null,
            "grid_template_rows": null,
            "height": null,
            "justify_content": null,
            "justify_items": null,
            "left": null,
            "margin": null,
            "max_height": null,
            "max_width": null,
            "min_height": null,
            "min_width": null,
            "object_fit": null,
            "object_position": null,
            "order": null,
            "overflow": null,
            "overflow_x": null,
            "overflow_y": null,
            "padding": null,
            "right": null,
            "top": null,
            "visibility": null,
            "width": null
          }
        },
        "b9417128c5b54c5491520fb23811f044": {
          "model_module": "@jupyter-widgets/base",
          "model_name": "LayoutModel",
          "model_module_version": "1.2.0",
          "state": {
            "_model_module": "@jupyter-widgets/base",
            "_model_module_version": "1.2.0",
            "_model_name": "LayoutModel",
            "_view_count": null,
            "_view_module": "@jupyter-widgets/base",
            "_view_module_version": "1.2.0",
            "_view_name": "LayoutView",
            "align_content": null,
            "align_items": null,
            "align_self": null,
            "border": null,
            "bottom": null,
            "display": null,
            "flex": null,
            "flex_flow": null,
            "grid_area": null,
            "grid_auto_columns": null,
            "grid_auto_flow": null,
            "grid_auto_rows": null,
            "grid_column": null,
            "grid_gap": null,
            "grid_row": null,
            "grid_template_areas": null,
            "grid_template_columns": null,
            "grid_template_rows": null,
            "height": null,
            "justify_content": null,
            "justify_items": null,
            "left": null,
            "margin": null,
            "max_height": null,
            "max_width": null,
            "min_height": null,
            "min_width": null,
            "object_fit": null,
            "object_position": null,
            "order": null,
            "overflow": null,
            "overflow_x": null,
            "overflow_y": null,
            "padding": null,
            "right": null,
            "top": null,
            "visibility": null,
            "width": null
          }
        },
        "9318d08eb2444b74b9df019c49ef9a03": {
          "model_module": "@jupyter-widgets/controls",
          "model_name": "DescriptionStyleModel",
          "model_module_version": "1.5.0",
          "state": {
            "_model_module": "@jupyter-widgets/controls",
            "_model_module_version": "1.5.0",
            "_model_name": "DescriptionStyleModel",
            "_view_count": null,
            "_view_module": "@jupyter-widgets/base",
            "_view_module_version": "1.2.0",
            "_view_name": "StyleView",
            "description_width": ""
          }
        },
        "2ad4c336a09142c1b6c58b2c94ebd15e": {
          "model_module": "@jupyter-widgets/base",
          "model_name": "LayoutModel",
          "model_module_version": "1.2.0",
          "state": {
            "_model_module": "@jupyter-widgets/base",
            "_model_module_version": "1.2.0",
            "_model_name": "LayoutModel",
            "_view_count": null,
            "_view_module": "@jupyter-widgets/base",
            "_view_module_version": "1.2.0",
            "_view_name": "LayoutView",
            "align_content": null,
            "align_items": null,
            "align_self": null,
            "border": null,
            "bottom": null,
            "display": null,
            "flex": null,
            "flex_flow": null,
            "grid_area": null,
            "grid_auto_columns": null,
            "grid_auto_flow": null,
            "grid_auto_rows": null,
            "grid_column": null,
            "grid_gap": null,
            "grid_row": null,
            "grid_template_areas": null,
            "grid_template_columns": null,
            "grid_template_rows": null,
            "height": null,
            "justify_content": null,
            "justify_items": null,
            "left": null,
            "margin": null,
            "max_height": null,
            "max_width": null,
            "min_height": null,
            "min_width": null,
            "object_fit": null,
            "object_position": null,
            "order": null,
            "overflow": null,
            "overflow_x": null,
            "overflow_y": null,
            "padding": null,
            "right": null,
            "top": null,
            "visibility": null,
            "width": null
          }
        },
        "ac77c5a3cefc44e08c2f4ed1b7711eef": {
          "model_module": "@jupyter-widgets/controls",
          "model_name": "ProgressStyleModel",
          "model_module_version": "1.5.0",
          "state": {
            "_model_module": "@jupyter-widgets/controls",
            "_model_module_version": "1.5.0",
            "_model_name": "ProgressStyleModel",
            "_view_count": null,
            "_view_module": "@jupyter-widgets/base",
            "_view_module_version": "1.2.0",
            "_view_name": "StyleView",
            "bar_color": null,
            "description_width": ""
          }
        },
        "ad0d7d1738784fecaa633c2066bf884e": {
          "model_module": "@jupyter-widgets/base",
          "model_name": "LayoutModel",
          "model_module_version": "1.2.0",
          "state": {
            "_model_module": "@jupyter-widgets/base",
            "_model_module_version": "1.2.0",
            "_model_name": "LayoutModel",
            "_view_count": null,
            "_view_module": "@jupyter-widgets/base",
            "_view_module_version": "1.2.0",
            "_view_name": "LayoutView",
            "align_content": null,
            "align_items": null,
            "align_self": null,
            "border": null,
            "bottom": null,
            "display": null,
            "flex": null,
            "flex_flow": null,
            "grid_area": null,
            "grid_auto_columns": null,
            "grid_auto_flow": null,
            "grid_auto_rows": null,
            "grid_column": null,
            "grid_gap": null,
            "grid_row": null,
            "grid_template_areas": null,
            "grid_template_columns": null,
            "grid_template_rows": null,
            "height": null,
            "justify_content": null,
            "justify_items": null,
            "left": null,
            "margin": null,
            "max_height": null,
            "max_width": null,
            "min_height": null,
            "min_width": null,
            "object_fit": null,
            "object_position": null,
            "order": null,
            "overflow": null,
            "overflow_x": null,
            "overflow_y": null,
            "padding": null,
            "right": null,
            "top": null,
            "visibility": null,
            "width": null
          }
        },
        "3a23c92aa3bb460ba558ef0bdf752b68": {
          "model_module": "@jupyter-widgets/controls",
          "model_name": "DescriptionStyleModel",
          "model_module_version": "1.5.0",
          "state": {
            "_model_module": "@jupyter-widgets/controls",
            "_model_module_version": "1.5.0",
            "_model_name": "DescriptionStyleModel",
            "_view_count": null,
            "_view_module": "@jupyter-widgets/base",
            "_view_module_version": "1.2.0",
            "_view_name": "StyleView",
            "description_width": ""
          }
        }
      }
    }
  },
  "cells": [
    {
      "cell_type": "markdown",
      "metadata": {
        "id": "view-in-github",
        "colab_type": "text"
      },
      "source": [
        "<a href=\"https://colab.research.google.com/github/OliverEvans96/planck-integral/blob/main/NumericalBenchmarks.ipynb\" target=\"_parent\"><img src=\"https://colab.research.google.com/assets/colab-badge.svg\" alt=\"Open In Colab\"/></a>"
      ]
    },
    {
      "cell_type": "code",
      "execution_count": 1,
      "metadata": {
        "id": "eXeSsvANImMB"
      },
      "outputs": [],
      "source": [
        "from mpmath import mp\n",
        "from scipy import constants as const\n",
        "import numpy as np\n",
        "import matplotlib.pyplot as plt\n",
        "import sympy as sp\n",
        "from tqdm.notebook import tqdm"
      ]
    },
    {
      "cell_type": "code",
      "source": [
        "mp.dps = 50"
      ],
      "metadata": {
        "id": "jHH6kzV-IohE"
      },
      "execution_count": 2,
      "outputs": []
    },
    {
      "cell_type": "code",
      "source": [
        "!git clone https://github.com/OliverEvans96/planck-integral.git"
      ],
      "metadata": {
        "id": "e8XQJaWlkv7S",
        "outputId": "d24ad741-8ccb-45e2-e837-e89703957b47",
        "colab": {
          "base_uri": "https://localhost:8080/"
        }
      },
      "execution_count": 3,
      "outputs": [
        {
          "output_type": "stream",
          "name": "stdout",
          "text": [
            "fatal: destination path 'planck-integral' already exists and is not an empty directory.\n"
          ]
        }
      ]
    },
    {
      "cell_type": "code",
      "source": [
        "def plancks_law(nu, T):\n",
        "  return 2 * const.h * nu**3 / ((mp.exp(const.h * nu / (const.k * T)) - 1) * const.c**2 )"
      ],
      "metadata": {
        "id": "qivvCosJI3gN"
      },
      "execution_count": 6,
      "outputs": []
    },
    {
      "cell_type": "code",
      "source": [
        "def integrate_planck_dist(T, nu_max):\n",
        "  return mp.quad(lambda nu: plancks_law(nu, T), [0, nu_max])"
      ],
      "metadata": {
        "id": "xGpe_zRI38rg"
      },
      "execution_count": 7,
      "outputs": []
    },
    {
      "cell_type": "code",
      "source": [
        "def calc_planck_integrals(T, freqs):\n",
        "  integrals = []\n",
        "  for freq in tqdm(freqs):\n",
        "    integral = integrate_planck_dist(T, freq)\n",
        "    integrals.append(integral)\n",
        "  return integrals"
      ],
      "metadata": {
        "id": "SaK1yaKw34wA"
      },
      "execution_count": 8,
      "outputs": []
    },
    {
      "cell_type": "markdown",
      "source": [
        "# Test `mpmath` precision"
      ],
      "metadata": {
        "id": "v6A90OLVYa1x"
      }
    },
    {
      "cell_type": "code",
      "source": [
        "def test_mpmath_precision(nu, T):\n",
        "  digits_range = list(range(1, 100))\n",
        "  integral_vals = []\n",
        "  for num_digits in digits_range:\n",
        "    mp.dps = num_digits\n",
        "    integral = integrate_planck_dist(T, nu)\n",
        "    integral_vals.append(integral)\n",
        "\n",
        "  final_ans = integral_vals[-1]\n",
        "  err_arr = []\n",
        "  for ans in integral_vals[:-1]:\n",
        "    err = np.abs(ans - final_ans)\n",
        "    err_arr.append(err)\n",
        "\n",
        "  plt.plot(digits_range[:-1], err_arr)\n",
        "  plt.yscale('log')\n",
        "  plt.xlabel('requested precision (decimal digits)')\n",
        "  plt.ylabel('error')\n",
        "  plt.grid('on')\n",
        "  plt.show()"
      ],
      "metadata": {
        "id": "6bEyMwgrLWLx"
      },
      "execution_count": 13,
      "outputs": []
    },
    {
      "cell_type": "code",
      "source": [
        "test_mpmath_precision(\n",
        "  nu = 877253052027857.375, # Hz\n",
        "  T = 6007, # K\n",
        ")"
      ],
      "metadata": {
        "id": "WcLWPxfM_t4D",
        "outputId": "3c8f2e60-5819-4fb3-fc9c-aabd31912d45",
        "colab": {
          "base_uri": "https://localhost:8080/",
          "height": 449
        }
      },
      "execution_count": 15,
      "outputs": [
        {
          "output_type": "display_data",
          "data": {
            "text/plain": [
              "<Figure size 640x480 with 1 Axes>"
            ],
            "image/png": "[encoded data removed]"
          },
          "metadata": {}
        }
      ]
    },
    {
      "cell_type": "markdown",
      "source": [
        "# Calculate peak frequency"
      ],
      "metadata": {
        "id": "44Zjkm1v4yqj"
      }
    },
    {
      "cell_type": "code",
      "source": [
        "sp_h, sp_k, sp_c, sp_nu, sp_T = sp.var('h, k, c, nu, T')"
      ],
      "metadata": {
        "id": "4qza0TCqSJTN"
      },
      "execution_count": 16,
      "outputs": []
    },
    {
      "cell_type": "code",
      "source": [
        "def plancks_law_sym(nu, T):\n",
        "  return 2 * sp_h * nu**3 / ((sp.exp(sp_h * nu / (sp_k * T)) - 1) * sp_c**2 )"
      ],
      "metadata": {
        "id": "4y6yzaOTSHjO"
      },
      "execution_count": 17,
      "outputs": []
    },
    {
      "cell_type": "code",
      "source": [
        "crit_eq = sp.Eq(sp.diff(plancks_law_sym(sp_nu, sp_T), sp_nu), 0)\n",
        "crit_eq"
      ],
      "metadata": {
        "colab": {
          "base_uri": "https://localhost:8080/",
          "height": 77
        },
        "id": "rS6CM91wSekP",
        "outputId": "87a87f01-e380-4c3d-f2c8-9b604712e112"
      },
      "execution_count": 18,
      "outputs": [
        {
          "output_type": "execute_result",
          "data": {
            "text/plain": [
              "Eq(6*h*nu**2/(c**2*(exp(h*nu/(T*k)) - 1)) - 2*h**2*nu**3*exp(h*nu/(T*k))/(T*c**2*k*(exp(h*nu/(T*k)) - 1)**2), 0)"
            ],
            "text/latex": "$\\displaystyle \\frac{6 h \\nu^{2}}{c^{2} \\left(e^{\\frac{h \\nu}{T k}} - 1\\right)} - \\frac{2 h^{2} \\nu^{3} e^{\\frac{h \\nu}{T k}}}{T c^{2} k \\left(e^{\\frac{h \\nu}{T k}} - 1\\right)^{2}} = 0$"
          },
          "metadata": {},
          "execution_count": 18
        }
      ]
    },
    {
      "cell_type": "code",
      "source": [
        "sp_x = sp.var('x')"
      ],
      "metadata": {
        "id": "plompOay87-J"
      },
      "execution_count": 19,
      "outputs": []
    },
    {
      "cell_type": "code",
      "source": [
        "crit_eq_x = crit_eq.subs(sp_h*sp_nu/(sp_T*sp_k), sp_x)\n",
        "crit_eq_x"
      ],
      "metadata": {
        "colab": {
          "base_uri": "https://localhost:8080/",
          "height": 61
        },
        "id": "yc4w01EP-QzB",
        "outputId": "c37f749c-7f3d-47e1-8ace-787271d34cfe"
      },
      "execution_count": 20,
      "outputs": [
        {
          "output_type": "execute_result",
          "data": {
            "text/plain": [
              "Eq(-2*h*nu**2*x*exp(x)/(c**2*(exp(x) - 1)**2) + 6*h*nu**2/(c**2*(exp(x) - 1)), 0)"
            ],
            "text/latex": "$\\displaystyle - \\frac{2 h \\nu^{2} x e^{x}}{c^{2} \\left(e^{x} - 1\\right)^{2}} + \\frac{6 h \\nu^{2}}{c^{2} \\left(e^{x} - 1\\right)} = 0$"
          },
          "metadata": {},
          "execution_count": 20
        }
      ]
    },
    {
      "cell_type": "code",
      "source": [
        "sp.simplify(crit_eq_x)"
      ],
      "metadata": {
        "colab": {
          "base_uri": "https://localhost:8080/",
          "height": 61
        },
        "id": "iuZf1zay8Y9_",
        "outputId": "22a0e66c-17f4-46a6-e9ac-a2e8e20a6b54"
      },
      "execution_count": 21,
      "outputs": [
        {
          "output_type": "execute_result",
          "data": {
            "text/plain": [
              "Eq(2*h*nu**2*(-x*exp(x) + 3*exp(x) - 3)/(c**2*(1 - exp(x))**2), 0)"
            ],
            "text/latex": "$\\displaystyle \\frac{2 h \\nu^{2} \\left(- x e^{x} + 3 e^{x} - 3\\right)}{c^{2} \\left(1 - e^{x}\\right)^{2}} = 0$"
          },
          "metadata": {},
          "execution_count": 21
        }
      ]
    },
    {
      "cell_type": "code",
      "source": [
        "def peak_eq(x):\n",
        "  return -x * mp.exp(x) + 3 * mp.exp(x) - 3"
      ],
      "metadata": {
        "id": "PmeHawsV_dx6"
      },
      "execution_count": 22,
      "outputs": []
    },
    {
      "cell_type": "code",
      "source": [
        "def calc_peak_freq(T):\n",
        "  x_val = mp.findroot(peak_eq, 2.8)\n",
        "  nu_peak = x_val * const.k * T / const.h\n",
        "  return nu_peak"
      ],
      "metadata": {
        "id": "bpHvRStj6IvX"
      },
      "execution_count": 23,
      "outputs": []
    },
    {
      "cell_type": "code",
      "source": [
        "def read_data_file(data_path):\n",
        "  freqs = []\n",
        "  with open(data_path) as data_file:\n",
        "    for line in data_file.readlines():\n",
        "      # strip whitespace\n",
        "      stripped = line.strip()\n",
        "      # skip blank lines\n",
        "      if len(stripped) == 0:\n",
        "        continue\n",
        "      # Get frequency from second column\n",
        "      freq = mp.mpf(line.split()[1])\n",
        "      freqs.append(freq)\n",
        "  return freqs"
      ],
      "metadata": {
        "id": "E9ObefSMmort"
      },
      "execution_count": 24,
      "outputs": []
    },
    {
      "cell_type": "code",
      "source": [
        "def format_float(val, num_digits):\n",
        "  \"\"\"Print a high-precision float with the given number of digits\"\"\"\n",
        "  # set min_fixed and max_fixed to avoid exponential notation\n",
        "  return mp.nstr(\n",
        "      val,\n",
        "      n=num_digits,\n",
        "      strip_zeros=False,\n",
        "      min_fixed=-mp.inf,\n",
        "      max_fixed=mp.inf,\n",
        "    )"
      ],
      "metadata": {
        "id": "-TjCLWrY8tc_"
      },
      "execution_count": 25,
      "outputs": []
    },
    {
      "cell_type": "code",
      "source": [
        "def write_output(filename, freqs, integrals, num_digits):\n",
        "  with open(filename, 'w', encoding='utf8') as out_file:\n",
        "    for freq, integral in zip(freqs, integrals):\n",
        "      freq_formatted = format_float(freq, 18)\n",
        "      integral_formatted = format_float(integral, num_digits)\n",
        "\n",
        "      out_file.write(freq_formatted)\n",
        "      out_file.write(' ')\n",
        "      out_file.write(integral_formatted)\n",
        "      out_file.write(' ')\n",
        "      out_file.write(\"[ W/m² ] / [ Sr ]\")\n",
        "      out_file.write('\\n')\n"
      ],
      "metadata": {
        "id": "nRo72LDC5Pmd"
      },
      "execution_count": 33,
      "outputs": []
    },
    {
      "cell_type": "code",
      "source": [
        "def plot_planck_dist(T):\n",
        "  nu_arr = list(range(1, int(1e15), int(1e12))) # Hz\n",
        "  B_arr = np.array([plancks_law(nu, T) for nu in nu_arr])\n",
        "  B_max = np.max(B_arr)\n",
        "  nu_peak = float(calc_peak_freq(T))\n",
        "\n",
        "  plt.plot(nu_arr, B_arr, label=f'Planck(Hz, {T} K)')\n",
        "  plt.xlabel(r'$\\nu$')\n",
        "  plt.ylabel(r'$B_\\nu$')\n",
        "  plt.vlines([nu_peak], 0, B_max, color='C1', ls='--', label=f'Peak ({nu_peak:.3e} Hz)')\n",
        "  plt.legend()\n",
        "  plt.show()"
      ],
      "metadata": {
        "id": "aBTzqx3JL0_h"
      },
      "execution_count": 34,
      "outputs": []
    },
    {
      "cell_type": "code",
      "source": [
        "def produce_benchmarks(data_path, T, workdps=50, outdps=25):\n",
        "  with mp.workdps(workdps):\n",
        "    plot_planck_dist(T)\n",
        "    freqs = read_data_file(data_path)\n",
        "    nu_peak = calc_peak_freq(T)\n",
        "    # Prepend peak frequency to frequency list\n",
        "    freqs.insert(0, nu_peak)\n",
        "    integrals = calc_planck_integrals(T, freqs)\n",
        "    filename = 'planck_integrals_{}K.dat'.format(T)\n",
        "    write_output(filename, freqs, integrals, num_digits=25)\n"
      ],
      "metadata": {
        "id": "k-bYOhOh53tT"
      },
      "execution_count": 35,
      "outputs": []
    },
    {
      "cell_type": "markdown",
      "source": [
        "# Perform calculations"
      ],
      "metadata": {
        "id": "pAtQQdBxbjsB"
      }
    },
    {
      "cell_type": "code",
      "source": [
        "data_path = 'planck-integral/data/phos.dat'"
      ],
      "metadata": {
        "id": "B3lMHmzLlJzR"
      },
      "execution_count": 37,
      "outputs": []
    },
    {
      "cell_type": "code",
      "source": [
        "produce_benchmarks(data_path, T=6007)"
      ],
      "metadata": {
        "id": "cfPUffxUVzF8",
        "outputId": "16b80774-77ee-4f2b-954a-e7c9244b9b15",
        "colab": {
          "base_uri": "https://localhost:8080/",
          "height": 497,
          "referenced_widgets": [
            "e44f3858303144b58011f80615d0bacb",
            "592ffc140eb848fc990b4511ff4b46b6",
            "b69a75bf3efc487bb8d1e115c4fe59d3",
            "aba3390eb7d049d1b62ecfccfa1faa23",
            "5d6f26da1e4d4f63a18b023362b428ca",
            "83871cdc070343e280cceb8f52838e13",
            "333fa7fcc0b04eb588e6def274664bd5",
            "672993902dd04e75805c17699a27d065",
            "1eb477abf1f946afaa5690bb5aefe6d9",
            "0c583ed401ba4395960ea1352cd2b940",
            "030cc1495a15466e8bb76f67418260a3"
          ]
        }
      },
      "execution_count": 38,
      "outputs": [
        {
          "output_type": "display_data",
          "data": {
            "text/plain": [
              "<Figure size 640x480 with 1 Axes>"
            ],
            "image/png": "[encoded data removed]"
          },
          "metadata": {}
        },
        {
          "output_type": "display_data",
          "data": {
            "text/plain": [
              "  0%|          | 0/2048 [00:00<?, ?it/s]"
            ],
            "application/vnd.jupyter.widget-view+json": {
              "version_major": 2,
              "version_minor": 0,
              "model_id": "e44f3858303144b58011f80615d0bacb"
            }
          },
          "metadata": {}
        }
      ]
    },
    {
      "cell_type": "code",
      "source": [
        "produce_benchmarks(data_path, T=5077)"
      ],
      "metadata": {
        "id": "frnb2X3dbJbJ",
        "outputId": "c8b921c7-e864-4b73-d4a1-89c6438ec1aa",
        "colab": {
          "base_uri": "https://localhost:8080/",
          "height": 497,
          "referenced_widgets": [
            "e1db65212ce148a18d269248ace32982",
            "50e8b02c9cfd4b6d9a7c1cadecdb16c1",
            "0ab552c08e1740eb8c49c9d5d3d824e5",
            "9c2d6ea59e584c93a0469892fda1d5d1",
            "2453ca5d78f545f59a54efbe05749063",
            "b9417128c5b54c5491520fb23811f044",
            "9318d08eb2444b74b9df019c49ef9a03",
            "2ad4c336a09142c1b6c58b2c94ebd15e",
            "ac77c5a3cefc44e08c2f4ed1b7711eef",
            "ad0d7d1738784fecaa633c2066bf884e",
            "3a23c92aa3bb460ba558ef0bdf752b68"
          ]
        }
      },
      "execution_count": 39,
      "outputs": [
        {
          "output_type": "display_data",
          "data": {
            "text/plain": [
              "<Figure size 640x480 with 1 Axes>"
            ],
            "image/png": "[encoded data removed]"
          },
          "metadata": {}
        },
        {
          "output_type": "display_data",
          "data": {
            "text/plain": [
              "  0%|          | 0/2048 [00:00<?, ?it/s]"
            ],
            "application/vnd.jupyter.widget-view+json": {
              "version_major": 2,
              "version_minor": 0,
              "model_id": "e1db65212ce148a18d269248ace32982"
            }
          },
          "metadata": {}
        }
      ]
    }
  ]
}