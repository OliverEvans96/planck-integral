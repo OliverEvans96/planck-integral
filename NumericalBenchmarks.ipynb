{
  "nbformat": 4,
  "nbformat_minor": 0,
  "metadata": {
    "colab": {
      "provenance": [],
      "authorship_tag": "ABX9TyPMvCQsQ4mAegTk/8NZPGxc",
      "include_colab_link": true
    },
    "kernelspec": {
      "name": "python3",
      "display_name": "Python 3"
    },
    "language_info": {
      "name": "python"
    },
    "widgets": {
      "application/vnd.jupyter.widget-state+json": {
        "1f6ff7fb0c5d43fe9d59661005ab7ba0": {
          "model_module": "@jupyter-widgets/controls",
          "model_name": "HBoxModel",
          "model_module_version": "1.5.0",
          "state": {
            "_dom_classes": [],
            "_model_module": "@jupyter-widgets/controls",
            "_model_module_version": "1.5.0",
            "_model_name": "HBoxModel",
            "_view_count": null,
            "_view_module": "@jupyter-widgets/controls",
            "_view_module_version": "1.5.0",
            "_view_name": "HBoxView",
            "box_style": "",
            "children": [
              "IPY_MODEL_a3944a8976f548289db74b970c636b40",
              "IPY_MODEL_0ef978a56c0c4ba4a0d7126ede8936c1",
              "IPY_MODEL_84f39fda327d4049aa4b68fd495c8a30"
            ],
            "layout": "IPY_MODEL_4b6c25a0a6a345e2b4c7cea765ca76c1"
          }
        },
        "a3944a8976f548289db74b970c636b40": {
          "model_module": "@jupyter-widgets/controls",
          "model_name": "HTMLModel",
          "model_module_version": "1.5.0",
          "state": {
            "_dom_classes": [],
            "_model_module": "@jupyter-widgets/controls",
            "_model_module_version": "1.5.0",
            "_model_name": "HTMLModel",
            "_view_count": null,
            "_view_module": "@jupyter-widgets/controls",
            "_view_module_version": "1.5.0",
            "_view_name": "HTMLView",
            "description": "",
            "description_tooltip": null,
            "layout": "IPY_MODEL_dd499a676b554536bed1180328c5931a",
            "placeholder": "​",
            "style": "IPY_MODEL_72bc88cbf9324a75a7931aac97a4d290",
            "value": "100%"
          }
        },
        "0ef978a56c0c4ba4a0d7126ede8936c1": {
          "model_module": "@jupyter-widgets/controls",
          "model_name": "FloatProgressModel",
          "model_module_version": "1.5.0",
          "state": {
            "_dom_classes": [],
            "_model_module": "@jupyter-widgets/controls",
            "_model_module_version": "1.5.0",
            "_model_name": "FloatProgressModel",
            "_view_count": null,
            "_view_module": "@jupyter-widgets/controls",
            "_view_module_version": "1.5.0",
            "_view_name": "ProgressView",
            "bar_style": "success",
            "description": "",
            "description_tooltip": null,
            "layout": "IPY_MODEL_b4c498cf8e7b4d71b352ed2b735b113b",
            "max": 2048,
            "min": 0,
            "orientation": "horizontal",
            "style": "IPY_MODEL_1cc2ce091bdf46159cba716ff174445f",
            "value": 2048
          }
        },
        "84f39fda327d4049aa4b68fd495c8a30": {
          "model_module": "@jupyter-widgets/controls",
          "model_name": "HTMLModel",
          "model_module_version": "1.5.0",
          "state": {
            "_dom_classes": [],
            "_model_module": "@jupyter-widgets/controls",
            "_model_module_version": "1.5.0",
            "_model_name": "HTMLModel",
            "_view_count": null,
            "_view_module": "@jupyter-widgets/controls",
            "_view_module_version": "1.5.0",
            "_view_name": "HTMLView",
            "description": "",
            "description_tooltip": null,
            "layout": "IPY_MODEL_43cc27a7d99f404ebd118c7ccf1d1575",
            "placeholder": "​",
            "style": "IPY_MODEL_b9286ace79b645fa9df36c04368f003f",
            "value": " 2048/2048 [00:35&lt;00:00, 68.32it/s]"
          }
        },
        "4b6c25a0a6a345e2b4c7cea765ca76c1": {
          "model_module": "@jupyter-widgets/base",
          "model_name": "LayoutModel",
          "model_module_version": "1.2.0",
          "state": {
            "_model_module": "@jupyter-widgets/base",
            "_model_module_version": "1.2.0",
            "_model_name": "LayoutModel",
            "_view_count": null,
            "_view_module": "@jupyter-widgets/base",
            "_view_module_version": "1.2.0",
            "_view_name": "LayoutView",
            "align_content": null,
            "align_items": null,
            "align_self": null,
            "border": null,
            "bottom": null,
            "display": null,
            "flex": null,
            "flex_flow": null,
            "grid_area": null,
            "grid_auto_columns": null,
            "grid_auto_flow": null,
            "grid_auto_rows": null,
            "grid_column": null,
            "grid_gap": null,
            "grid_row": null,
            "grid_template_areas": null,
            "grid_template_columns": null,
            "grid_template_rows": null,
            "height": null,
            "justify_content": null,
            "justify_items": null,
            "left": null,
            "margin": null,
            "max_height": null,
            "max_width": null,
            "min_height": null,
            "min_width": null,
            "object_fit": null,
            "object_position": null,
            "order": null,
            "overflow": null,
            "overflow_x": null,
            "overflow_y": null,
            "padding": null,
            "right": null,
            "top": null,
            "visibility": null,
            "width": null
          }
        },
        "dd499a676b554536bed1180328c5931a": {
          "model_module": "@jupyter-widgets/base",
          "model_name": "LayoutModel",
          "model_module_version": "1.2.0",
          "state": {
            "_model_module": "@jupyter-widgets/base",
            "_model_module_version": "1.2.0",
            "_model_name": "LayoutModel",
            "_view_count": null,
            "_view_module": "@jupyter-widgets/base",
            "_view_module_version": "1.2.0",
            "_view_name": "LayoutView",
            "align_content": null,
            "align_items": null,
            "align_self": null,
            "border": null,
            "bottom": null,
            "display": null,
            "flex": null,
            "flex_flow": null,
            "grid_area": null,
            "grid_auto_columns": null,
            "grid_auto_flow": null,
            "grid_auto_rows": null,
            "grid_column": null,
            "grid_gap": null,
            "grid_row": null,
            "grid_template_areas": null,
            "grid_template_columns": null,
            "grid_template_rows": null,
            "height": null,
            "justify_content": null,
            "justify_items": null,
            "left": null,
            "margin": null,
            "max_height": null,
            "max_width": null,
            "min_height": null,
            "min_width": null,
            "object_fit": null,
            "object_position": null,
            "order": null,
            "overflow": null,
            "overflow_x": null,
            "overflow_y": null,
            "padding": null,
            "right": null,
            "top": null,
            "visibility": null,
            "width": null
          }
        },
        "72bc88cbf9324a75a7931aac97a4d290": {
          "model_module": "@jupyter-widgets/controls",
          "model_name": "DescriptionStyleModel",
          "model_module_version": "1.5.0",
          "state": {
            "_model_module": "@jupyter-widgets/controls",
            "_model_module_version": "1.5.0",
            "_model_name": "DescriptionStyleModel",
            "_view_count": null,
            "_view_module": "@jupyter-widgets/base",
            "_view_module_version": "1.2.0",
            "_view_name": "StyleView",
            "description_width": ""
          }
        },
        "b4c498cf8e7b4d71b352ed2b735b113b": {
          "model_module": "@jupyter-widgets/base",
          "model_name": "LayoutModel",
          "model_module_version": "1.2.0",
          "state": {
            "_model_module": "@jupyter-widgets/base",
            "_model_module_version": "1.2.0",
            "_model_name": "LayoutModel",
            "_view_count": null,
            "_view_module": "@jupyter-widgets/base",
            "_view_module_version": "1.2.0",
            "_view_name": "LayoutView",
            "align_content": null,
            "align_items": null,
            "align_self": null,
            "border": null,
            "bottom": null,
            "display": null,
            "flex": null,
            "flex_flow": null,
            "grid_area": null,
            "grid_auto_columns": null,
            "grid_auto_flow": null,
            "grid_auto_rows": null,
            "grid_column": null,
            "grid_gap": null,
            "grid_row": null,
            "grid_template_areas": null,
            "grid_template_columns": null,
            "grid_template_rows": null,
            "height": null,
            "justify_content": null,
            "justify_items": null,
            "left": null,
            "margin": null,
            "max_height": null,
            "max_width": null,
            "min_height": null,
            "min_width": null,
            "object_fit": null,
            "object_position": null,
            "order": null,
            "overflow": null,
            "overflow_x": null,
            "overflow_y": null,
            "padding": null,
            "right": null,
            "top": null,
            "visibility": null,
            "width": null
          }
        },
        "1cc2ce091bdf46159cba716ff174445f": {
          "model_module": "@jupyter-widgets/controls",
          "model_name": "ProgressStyleModel",
          "model_module_version": "1.5.0",
          "state": {
            "_model_module": "@jupyter-widgets/controls",
            "_model_module_version": "1.5.0",
            "_model_name": "ProgressStyleModel",
            "_view_count": null,
            "_view_module": "@jupyter-widgets/base",
            "_view_module_version": "1.2.0",
            "_view_name": "StyleView",
            "bar_color": null,
            "description_width": ""
          }
        },
        "43cc27a7d99f404ebd118c7ccf1d1575": {
          "model_module": "@jupyter-widgets/base",
          "model_name": "LayoutModel",
          "model_module_version": "1.2.0",
          "state": {
            "_model_module": "@jupyter-widgets/base",
            "_model_module_version": "1.2.0",
            "_model_name": "LayoutModel",
            "_view_count": null,
            "_view_module": "@jupyter-widgets/base",
            "_view_module_version": "1.2.0",
            "_view_name": "LayoutView",
            "align_content": null,
            "align_items": null,
            "align_self": null,
            "border": null,
            "bottom": null,
            "display": null,
            "flex": null,
            "flex_flow": null,
            "grid_area": null,
            "grid_auto_columns": null,
            "grid_auto_flow": null,
            "grid_auto_rows": null,
            "grid_column": null,
            "grid_gap": null,
            "grid_row": null,
            "grid_template_areas": null,
            "grid_template_columns": null,
            "grid_template_rows": null,
            "height": null,
            "justify_content": null,
            "justify_items": null,
            "left": null,
            "margin": null,
            "max_height": null,
            "max_width": null,
            "min_height": null,
            "min_width": null,
            "object_fit": null,
            "object_position": null,
            "order": null,
            "overflow": null,
            "overflow_x": null,
            "overflow_y": null,
            "padding": null,
            "right": null,
            "top": null,
            "visibility": null,
            "width": null
          }
        },
        "b9286ace79b645fa9df36c04368f003f": {
          "model_module": "@jupyter-widgets/controls",
          "model_name": "DescriptionStyleModel",
          "model_module_version": "1.5.0",
          "state": {
            "_model_module": "@jupyter-widgets/controls",
            "_model_module_version": "1.5.0",
            "_model_name": "DescriptionStyleModel",
            "_view_count": null,
            "_view_module": "@jupyter-widgets/base",
            "_view_module_version": "1.2.0",
            "_view_name": "StyleView",
            "description_width": ""
          }
        },
        "2e339a78fd9743a49c8c36afbe60496c": {
          "model_module": "@jupyter-widgets/controls",
          "model_name": "HBoxModel",
          "model_module_version": "1.5.0",
          "state": {
            "_dom_classes": [],
            "_model_module": "@jupyter-widgets/controls",
            "_model_module_version": "1.5.0",
            "_model_name": "HBoxModel",
            "_view_count": null,
            "_view_module": "@jupyter-widgets/controls",
            "_view_module_version": "1.5.0",
            "_view_name": "HBoxView",
            "box_style": "",
            "children": [
              "IPY_MODEL_3a89ac629b3843b39ce876dc8cf29dd2",
              "IPY_MODEL_fc9307c6c56a412e94cd8498fe742a58",
              "IPY_MODEL_ffbd1c9794324c9486f14e035982aab9"
            ],
            "layout": "IPY_MODEL_c05abffc932f4b6f9dda6212e35c36ad"
          }
        },
        "3a89ac629b3843b39ce876dc8cf29dd2": {
          "model_module": "@jupyter-widgets/controls",
          "model_name": "HTMLModel",
          "model_module_version": "1.5.0",
          "state": {
            "_dom_classes": [],
            "_model_module": "@jupyter-widgets/controls",
            "_model_module_version": "1.5.0",
            "_model_name": "HTMLModel",
            "_view_count": null,
            "_view_module": "@jupyter-widgets/controls",
            "_view_module_version": "1.5.0",
            "_view_name": "HTMLView",
            "description": "",
            "description_tooltip": null,
            "layout": "IPY_MODEL_f14e9b83a51a4c5399ba80580944b0fe",
            "placeholder": "​",
            "style": "IPY_MODEL_abb093f477114ce98867f33cb1868618",
            "value": "100%"
          }
        },
        "fc9307c6c56a412e94cd8498fe742a58": {
          "model_module": "@jupyter-widgets/controls",
          "model_name": "FloatProgressModel",
          "model_module_version": "1.5.0",
          "state": {
            "_dom_classes": [],
            "_model_module": "@jupyter-widgets/controls",
            "_model_module_version": "1.5.0",
            "_model_name": "FloatProgressModel",
            "_view_count": null,
            "_view_module": "@jupyter-widgets/controls",
            "_view_module_version": "1.5.0",
            "_view_name": "ProgressView",
            "bar_style": "success",
            "description": "",
            "description_tooltip": null,
            "layout": "IPY_MODEL_6e25fe09747647199a96841b5015f27a",
            "max": 2048,
            "min": 0,
            "orientation": "horizontal",
            "style": "IPY_MODEL_c9b89c8861be4e35874b233473b2553c",
            "value": 2048
          }
        },
        "ffbd1c9794324c9486f14e035982aab9": {
          "model_module": "@jupyter-widgets/controls",
          "model_name": "HTMLModel",
          "model_module_version": "1.5.0",
          "state": {
            "_dom_classes": [],
            "_model_module": "@jupyter-widgets/controls",
            "_model_module_version": "1.5.0",
            "_model_name": "HTMLModel",
            "_view_count": null,
            "_view_module": "@jupyter-widgets/controls",
            "_view_module_version": "1.5.0",
            "_view_name": "HTMLView",
            "description": "",
            "description_tooltip": null,
            "layout": "IPY_MODEL_2a1daebd30d8411faa2a2cf2a42508ca",
            "placeholder": "​",
            "style": "IPY_MODEL_6b0d1125a0104db7b5f1ae6ca17a8e4e",
            "value": " 2048/2048 [00:42&lt;00:00, 42.20it/s]"
          }
        },
        "c05abffc932f4b6f9dda6212e35c36ad": {
          "model_module": "@jupyter-widgets/base",
          "model_name": "LayoutModel",
          "model_module_version": "1.2.0",
          "state": {
            "_model_module": "@jupyter-widgets/base",
            "_model_module_version": "1.2.0",
            "_model_name": "LayoutModel",
            "_view_count": null,
            "_view_module": "@jupyter-widgets/base",
            "_view_module_version": "1.2.0",
            "_view_name": "LayoutView",
            "align_content": null,
            "align_items": null,
            "align_self": null,
            "border": null,
            "bottom": null,
            "display": null,
            "flex": null,
            "flex_flow": null,
            "grid_area": null,
            "grid_auto_columns": null,
            "grid_auto_flow": null,
            "grid_auto_rows": null,
            "grid_column": null,
            "grid_gap": null,
            "grid_row": null,
            "grid_template_areas": null,
            "grid_template_columns": null,
            "grid_template_rows": null,
            "height": null,
            "justify_content": null,
            "justify_items": null,
            "left": null,
            "margin": null,
            "max_height": null,
            "max_width": null,
            "min_height": null,
            "min_width": null,
            "object_fit": null,
            "object_position": null,
            "order": null,
            "overflow": null,
            "overflow_x": null,
            "overflow_y": null,
            "padding": null,
            "right": null,
            "top": null,
            "visibility": null,
            "width": null
          }
        },
        "f14e9b83a51a4c5399ba80580944b0fe": {
          "model_module": "@jupyter-widgets/base",
          "model_name": "LayoutModel",
          "model_module_version": "1.2.0",
          "state": {
            "_model_module": "@jupyter-widgets/base",
            "_model_module_version": "1.2.0",
            "_model_name": "LayoutModel",
            "_view_count": null,
            "_view_module": "@jupyter-widgets/base",
            "_view_module_version": "1.2.0",
            "_view_name": "LayoutView",
            "align_content": null,
            "align_items": null,
            "align_self": null,
            "border": null,
            "bottom": null,
            "display": null,
            "flex": null,
            "flex_flow": null,
            "grid_area": null,
            "grid_auto_columns": null,
            "grid_auto_flow": null,
            "grid_auto_rows": null,
            "grid_column": null,
            "grid_gap": null,
            "grid_row": null,
            "grid_template_areas": null,
            "grid_template_columns": null,
            "grid_template_rows": null,
            "height": null,
            "justify_content": null,
            "justify_items": null,
            "left": null,
            "margin": null,
            "max_height": null,
            "max_width": null,
            "min_height": null,
            "min_width": null,
            "object_fit": null,
            "object_position": null,
            "order": null,
            "overflow": null,
            "overflow_x": null,
            "overflow_y": null,
            "padding": null,
            "right": null,
            "top": null,
            "visibility": null,
            "width": null
          }
        },
        "abb093f477114ce98867f33cb1868618": {
          "model_module": "@jupyter-widgets/controls",
          "model_name": "DescriptionStyleModel",
          "model_module_version": "1.5.0",
          "state": {
            "_model_module": "@jupyter-widgets/controls",
            "_model_module_version": "1.5.0",
            "_model_name": "DescriptionStyleModel",
            "_view_count": null,
            "_view_module": "@jupyter-widgets/base",
            "_view_module_version": "1.2.0",
            "_view_name": "StyleView",
            "description_width": ""
          }
        },
        "6e25fe09747647199a96841b5015f27a": {
          "model_module": "@jupyter-widgets/base",
          "model_name": "LayoutModel",
          "model_module_version": "1.2.0",
          "state": {
            "_model_module": "@jupyter-widgets/base",
            "_model_module_version": "1.2.0",
            "_model_name": "LayoutModel",
            "_view_count": null,
            "_view_module": "@jupyter-widgets/base",
            "_view_module_version": "1.2.0",
            "_view_name": "LayoutView",
            "align_content": null,
            "align_items": null,
            "align_self": null,
            "border": null,
            "bottom": null,
            "display": null,
            "flex": null,
            "flex_flow": null,
            "grid_area": null,
            "grid_auto_columns": null,
            "grid_auto_flow": null,
            "grid_auto_rows": null,
            "grid_column": null,
            "grid_gap": null,
            "grid_row": null,
            "grid_template_areas": null,
            "grid_template_columns": null,
            "grid_template_rows": null,
            "height": null,
            "justify_content": null,
            "justify_items": null,
            "left": null,
            "margin": null,
            "max_height": null,
            "max_width": null,
            "min_height": null,
            "min_width": null,
            "object_fit": null,
            "object_position": null,
            "order": null,
            "overflow": null,
            "overflow_x": null,
            "overflow_y": null,
            "padding": null,
            "right": null,
            "top": null,
            "visibility": null,
            "width": null
          }
        },
        "c9b89c8861be4e35874b233473b2553c": {
          "model_module": "@jupyter-widgets/controls",
          "model_name": "ProgressStyleModel",
          "model_module_version": "1.5.0",
          "state": {
            "_model_module": "@jupyter-widgets/controls",
            "_model_module_version": "1.5.0",
            "_model_name": "ProgressStyleModel",
            "_view_count": null,
            "_view_module": "@jupyter-widgets/base",
            "_view_module_version": "1.2.0",
            "_view_name": "StyleView",
            "bar_color": null,
            "description_width": ""
          }
        },
        "2a1daebd30d8411faa2a2cf2a42508ca": {
          "model_module": "@jupyter-widgets/base",
          "model_name": "LayoutModel",
          "model_module_version": "1.2.0",
          "state": {
            "_model_module": "@jupyter-widgets/base",
            "_model_module_version": "1.2.0",
            "_model_name": "LayoutModel",
            "_view_count": null,
            "_view_module": "@jupyter-widgets/base",
            "_view_module_version": "1.2.0",
            "_view_name": "LayoutView",
            "align_content": null,
            "align_items": null,
            "align_self": null,
            "border": null,
            "bottom": null,
            "display": null,
            "flex": null,
            "flex_flow": null,
            "grid_area": null,
            "grid_auto_columns": null,
            "grid_auto_flow": null,
            "grid_auto_rows": null,
            "grid_column": null,
            "grid_gap": null,
            "grid_row": null,
            "grid_template_areas": null,
            "grid_template_columns": null,
            "grid_template_rows": null,
            "height": null,
            "justify_content": null,
            "justify_items": null,
            "left": null,
            "margin": null,
            "max_height": null,
            "max_width": null,
            "min_height": null,
            "min_width": null,
            "object_fit": null,
            "object_position": null,
            "order": null,
            "overflow": null,
            "overflow_x": null,
            "overflow_y": null,
            "padding": null,
            "right": null,
            "top": null,
            "visibility": null,
            "width": null
          }
        },
        "6b0d1125a0104db7b5f1ae6ca17a8e4e": {
          "model_module": "@jupyter-widgets/controls",
          "model_name": "DescriptionStyleModel",
          "model_module_version": "1.5.0",
          "state": {
            "_model_module": "@jupyter-widgets/controls",
            "_model_module_version": "1.5.0",
            "_model_name": "DescriptionStyleModel",
            "_view_count": null,
            "_view_module": "@jupyter-widgets/base",
            "_view_module_version": "1.2.0",
            "_view_name": "StyleView",
            "description_width": ""
          }
        }
      }
    }
  },
  "cells": [
    {
      "cell_type": "markdown",
      "metadata": {
        "id": "view-in-github",
        "colab_type": "text"
      },
      "source": [
        "<a href=\"https://colab.research.google.com/github/OliverEvans96/planck-integral/blob/main/NumericalBenchmarks.ipynb\" target=\"_parent\"><img src=\"https://colab.research.google.com/assets/colab-badge.svg\" alt=\"Open In Colab\"/></a>"
      ]
    },
    {
      "cell_type": "code",
      "execution_count": 1,
      "metadata": {
        "id": "eXeSsvANImMB"
      },
      "outputs": [],
      "source": [
        "from mpmath import mp # high-precision math\n",
        "import matplotlib.pyplot as plt # plotting\n",
        "import sympy as sp # symbolic math\n",
        "from tqdm.notebook import tqdm # progress bars"
      ]
    },
    {
      "cell_type": "code",
      "source": [
        "# Use high-precision constants\n",
        "mp_k = mp.mpf(\"1.380649e-23\")\n",
        "mp_h = mp.mpf(\"6.62607015e-34\")\n",
        "mp_c = mp.mpf(\"299792458\")"
      ],
      "metadata": {
        "id": "9s4uVnw8zhJl"
      },
      "execution_count": 2,
      "outputs": []
    },
    {
      "cell_type": "code",
      "source": [
        "# Download data file from github\n",
        "!mkdir -p data\n",
        "!wget -O data/phos.dat https://raw.githubusercontent.com/OliverEvans96/planck-integral/refs/heads/main/data/phos.dat"
      ],
      "metadata": {
        "colab": {
          "base_uri": "https://localhost:8080/"
        },
        "id": "e8XQJaWlkv7S",
        "outputId": "a1ecd024-0f1d-43fc-d2db-2a857f392292"
      },
      "execution_count": 3,
      "outputs": [
        {
          "output_type": "stream",
          "name": "stdout",
          "text": [
            "--2024-12-02 00:43:41--  https://raw.githubusercontent.com/OliverEvans96/planck-integral/refs/heads/main/data/phos.dat\n",
            "Resolving raw.githubusercontent.com (raw.githubusercontent.com)... 185.199.111.133, 185.199.109.133, 185.199.108.133, ...\n",
            "Connecting to raw.githubusercontent.com (raw.githubusercontent.com)|185.199.111.133|:443... connected.\n",
            "HTTP request sent, awaiting response... 200 OK\n",
            "Length: 216086 (211K) [text/plain]\n",
            "Saving to: ‘data/phos.dat’\n",
            "\n",
            "\rdata/phos.dat         0%[                    ]       0  --.-KB/s               \rdata/phos.dat       100%[===================>] 211.02K  --.-KB/s    in 0.03s   \n",
            "\n",
            "2024-12-02 00:43:41 (7.57 MB/s) - ‘data/phos.dat’ saved [216086/216086]\n",
            "\n"
          ]
        }
      ]
    },
    {
      "cell_type": "code",
      "source": [
        "def plancks_law(nu, T):\n",
        "  return 2 * mp_h * nu**3 / ((mp.exp(mp_h * nu / (mp_k * T)) - 1) * mp_c**2 )"
      ],
      "metadata": {
        "id": "qivvCosJI3gN"
      },
      "execution_count": 4,
      "outputs": []
    },
    {
      "cell_type": "code",
      "source": [
        "def integrate_planck_dist(T, nu_max):\n",
        "  \"\"\"Integrate the Planck distribution for the given `T` (K) from 0 to `nu_max`\"\"\"\n",
        "  return mp.quad(lambda nu: plancks_law(nu, T), [0, nu_max])"
      ],
      "metadata": {
        "id": "xGpe_zRI38rg"
      },
      "execution_count": 5,
      "outputs": []
    },
    {
      "cell_type": "code",
      "source": [
        "def calc_planck_integrals(T, freqs):\n",
        "  \"\"\"Calculate the integral of a single Planck distribution from 0 to multiple frequency values (Hz)\"\"\"\n",
        "  integrals = []\n",
        "  for freq in tqdm(freqs):\n",
        "    integral = integrate_planck_dist(T, freq)\n",
        "    integrals.append(integral)\n",
        "  return integrals"
      ],
      "metadata": {
        "id": "SaK1yaKw34wA"
      },
      "execution_count": 6,
      "outputs": []
    },
    {
      "cell_type": "markdown",
      "source": [
        "# Test `mpmath` precision"
      ],
      "metadata": {
        "id": "v6A90OLVYa1x"
      }
    },
    {
      "cell_type": "code",
      "source": [
        "def test_mpmath_precision(nu, T):\n",
        "  digits_range = list(range(1, 100))\n",
        "  integral_vals = []\n",
        "  for num_digits in digits_range:\n",
        "    with mp.workdps(num_digits):\n",
        "      integral = integrate_planck_dist(T, nu)\n",
        "    integral_vals.append(integral)\n",
        "\n",
        "  final_ans = integral_vals[-1]\n",
        "  err_arr = []\n",
        "  for ans in integral_vals[:-1]:\n",
        "    err = abs(ans - final_ans)\n",
        "    err_arr.append(err)\n",
        "\n",
        "  plt.plot(digits_range[:-1], err_arr)\n",
        "  plt.yscale('log')\n",
        "  plt.xlabel('requested precision (decimal digits)')\n",
        "  plt.ylabel('error')\n",
        "  plt.grid('on')\n",
        "  plt.show()"
      ],
      "metadata": {
        "id": "6bEyMwgrLWLx"
      },
      "execution_count": 7,
      "outputs": []
    },
    {
      "cell_type": "code",
      "source": [
        "test_mpmath_precision(\n",
        "  nu = 877253052027857.375, # Hz\n",
        "  T = 6007, # K\n",
        ")"
      ],
      "metadata": {
        "colab": {
          "base_uri": "https://localhost:8080/",
          "height": 449
        },
        "id": "WcLWPxfM_t4D",
        "outputId": "d0efd78f-63a8-4bd0-bff6-641c7d6d722e"
      },
      "execution_count": 8,
      "outputs": [
        {
          "output_type": "display_data",
          "data": {
            "text/plain": [
              "<Figure size 640x480 with 1 Axes>"
            ],
            "image/png": "[encoded data removed]"
          },
          "metadata": {}
        }
      ]
    },
    {
      "cell_type": "markdown",
      "source": [
        "Calculating the same integral using `mpmath` with a variety of precisions and comparing to the highest precision result, we see the error decrease linearly, as expected. The small flat patches are due to the discrepancy between binary and decimal precision. See [the docs](https://mpmath.org/doc/current/basics.html) for more details."
      ],
      "metadata": {
        "id": "uosGBUvofGh9"
      }
    },
    {
      "cell_type": "markdown",
      "source": [
        "# Calculate peak frequency\n",
        "\n",
        "We calculate the derivative of the Planck distribution function and find its nonzero root."
      ],
      "metadata": {
        "id": "44Zjkm1v4yqj"
      }
    },
    {
      "cell_type": "code",
      "source": [
        "sp_h, sp_k, sp_c, sp_nu, sp_T = sp.var('h, k, c, nu, T')"
      ],
      "metadata": {
        "id": "4qza0TCqSJTN"
      },
      "execution_count": 9,
      "outputs": []
    },
    {
      "cell_type": "code",
      "source": [
        "def plancks_law_sym(nu, T):\n",
        "  return 2 * sp_h * nu**3 / ((sp.exp(sp_h * nu / (sp_k * T)) - 1) * sp_c**2 )"
      ],
      "metadata": {
        "id": "4y6yzaOTSHjO"
      },
      "execution_count": 10,
      "outputs": []
    },
    {
      "cell_type": "code",
      "source": [
        "crit_eq = sp.Eq(sp.diff(plancks_law_sym(sp_nu, sp_T), sp_nu), 0)\n",
        "crit_eq"
      ],
      "metadata": {
        "colab": {
          "base_uri": "https://localhost:8080/",
          "height": 77
        },
        "id": "rS6CM91wSekP",
        "outputId": "c2d8b43e-271e-4ed4-c710-3eb45607a47d"
      },
      "execution_count": 11,
      "outputs": [
        {
          "output_type": "execute_result",
          "data": {
            "text/plain": [
              "Eq(6*h*nu**2/(c**2*(exp(h*nu/(T*k)) - 1)) - 2*h**2*nu**3*exp(h*nu/(T*k))/(T*c**2*k*(exp(h*nu/(T*k)) - 1)**2), 0)"
            ],
            "text/latex": "$\\displaystyle \\frac{6 h \\nu^{2}}{c^{2} \\left(e^{\\frac{h \\nu}{T k}} - 1\\right)} - \\frac{2 h^{2} \\nu^{3} e^{\\frac{h \\nu}{T k}}}{T c^{2} k \\left(e^{\\frac{h \\nu}{T k}} - 1\\right)^{2}} = 0$"
          },
          "metadata": {},
          "execution_count": 11
        }
      ]
    },
    {
      "cell_type": "markdown",
      "source": [
        "We can simplify using the substitution $x = \\frac{h \\nu}{T k}$."
      ],
      "metadata": {
        "id": "AjiunK0_f84D"
      }
    },
    {
      "cell_type": "code",
      "source": [
        "sp_x = sp.var('x')"
      ],
      "metadata": {
        "id": "plompOay87-J"
      },
      "execution_count": 12,
      "outputs": []
    },
    {
      "cell_type": "code",
      "source": [
        "crit_eq_x = crit_eq.subs(sp_h*sp_nu/(sp_T*sp_k), sp_x)\n",
        "crit_eq_x"
      ],
      "metadata": {
        "colab": {
          "base_uri": "https://localhost:8080/",
          "height": 61
        },
        "id": "yc4w01EP-QzB",
        "outputId": "b5d395da-ac72-4f67-bf6c-9bf78752d2af"
      },
      "execution_count": 13,
      "outputs": [
        {
          "output_type": "execute_result",
          "data": {
            "text/plain": [
              "Eq(-2*h*nu**2*x*exp(x)/(c**2*(exp(x) - 1)**2) + 6*h*nu**2/(c**2*(exp(x) - 1)), 0)"
            ],
            "text/latex": "$\\displaystyle - \\frac{2 h \\nu^{2} x e^{x}}{c^{2} \\left(e^{x} - 1\\right)^{2}} + \\frac{6 h \\nu^{2}}{c^{2} \\left(e^{x} - 1\\right)} = 0$"
          },
          "metadata": {},
          "execution_count": 13
        }
      ]
    },
    {
      "cell_type": "code",
      "source": [
        "sp.simplify(crit_eq_x)"
      ],
      "metadata": {
        "colab": {
          "base_uri": "https://localhost:8080/",
          "height": 61
        },
        "id": "iuZf1zay8Y9_",
        "outputId": "b5055af5-a24c-482f-fbcf-354bb2b6c92b"
      },
      "execution_count": 14,
      "outputs": [
        {
          "output_type": "execute_result",
          "data": {
            "text/plain": [
              "Eq(2*h*nu**2*(-x*exp(x) + 3*exp(x) - 3)/(c**2*(1 - exp(x))**2), 0)"
            ],
            "text/latex": "$\\displaystyle \\frac{2 h \\nu^{2} \\left(- x e^{x} + 3 e^{x} - 3\\right)}{c^{2} \\left(1 - e^{x}\\right)^{2}} = 0$"
          },
          "metadata": {},
          "execution_count": 14
        }
      ]
    },
    {
      "cell_type": "markdown",
      "source": [
        "The above critical equation is satisfied when $-xe^x + 3e^x - 3 = 0$.\n",
        "\n",
        "This is a transcendental equation which must be solved numerically. The solution is roughly $x^*=2.821$.\n",
        "\n",
        "Then we substitute $x$ back to its original value to find the peak frequency,\n",
        "\n",
        "$\\nu^* = \\frac{kT}{h} x^*$."
      ],
      "metadata": {
        "id": "0VPjZUPmfhxi"
      }
    },
    {
      "cell_type": "code",
      "source": [],
      "metadata": {
        "id": "Rqa8O256zQ1c"
      },
      "execution_count": 14,
      "outputs": []
    },
    {
      "cell_type": "code",
      "source": [
        "def peak_eq(x):\n",
        "  return -x * mp.exp(x) + 3 * mp.exp(x) - 3"
      ],
      "metadata": {
        "id": "PmeHawsV_dx6"
      },
      "execution_count": 15,
      "outputs": []
    },
    {
      "cell_type": "code",
      "source": [
        "def calc_peak_freq(T):\n",
        "  x_val = mp.findroot(peak_eq, 2.8)\n",
        "  nu_peak = x_val * mp_k * T / mp_h\n",
        "  return nu_peak"
      ],
      "metadata": {
        "id": "bpHvRStj6IvX"
      },
      "execution_count": 16,
      "outputs": []
    },
    {
      "cell_type": "markdown",
      "source": [
        "# I/O Functions"
      ],
      "metadata": {
        "id": "EGS1vgbgeY-E"
      }
    },
    {
      "cell_type": "code",
      "source": [
        "def read_data_file(data_path):\n",
        "  freqs = []\n",
        "  with open(data_path) as data_file:\n",
        "    for line in data_file.readlines():\n",
        "      # strip whitespace\n",
        "      stripped = line.strip()\n",
        "      # skip blank lines\n",
        "      if len(stripped) == 0:\n",
        "        continue\n",
        "      # Get frequency from second column\n",
        "      freq = mp.mpf(line.split()[1])\n",
        "      freqs.append(freq)\n",
        "  return freqs"
      ],
      "metadata": {
        "id": "E9ObefSMmort"
      },
      "execution_count": 17,
      "outputs": []
    },
    {
      "cell_type": "code",
      "source": [
        "def format_float(val, num_digits):\n",
        "  \"\"\"Print a high-precision float with the given number of digits\"\"\"\n",
        "  # set min_fixed and max_fixed to avoid exponential notation\n",
        "  return mp.nstr(\n",
        "      val,\n",
        "      n=num_digits,\n",
        "      strip_zeros=False,\n",
        "      min_fixed=-mp.inf,\n",
        "      max_fixed=mp.inf,\n",
        "    )"
      ],
      "metadata": {
        "id": "-TjCLWrY8tc_"
      },
      "execution_count": 18,
      "outputs": []
    },
    {
      "cell_type": "code",
      "source": [
        "def write_output(filename, freqs, integrals, num_digits):\n",
        "  with open(filename, 'w', encoding='utf8') as out_file:\n",
        "    for freq, integral in zip(freqs, integrals):\n",
        "      freq_formatted = format_float(freq, 25)\n",
        "      integral_formatted = format_float(integral, num_digits)\n",
        "\n",
        "      out_file.write(freq_formatted)\n",
        "      out_file.write(' ')\n",
        "      out_file.write(integral_formatted)\n",
        "      out_file.write(' ')\n",
        "      out_file.write(\"[ W/m² ] / [ Sr ]\")\n",
        "      out_file.write('\\n')"
      ],
      "metadata": {
        "id": "nRo72LDC5Pmd"
      },
      "execution_count": 19,
      "outputs": []
    },
    {
      "cell_type": "code",
      "source": [
        "def plot_planck_dist(T):\n",
        "  nu_arr = list(range(1, int(1e15), int(1e12))) # Hz\n",
        "  B_arr = [plancks_law(nu, T) for nu in nu_arr]\n",
        "  B_max = max(B_arr)\n",
        "  nu_peak = float(calc_peak_freq(T))\n",
        "\n",
        "  plt.plot(nu_arr, B_arr, label=f'Planck(Hz, {T} K)')\n",
        "  plt.xlabel(r'$\\nu$')\n",
        "  plt.ylabel(r'$B_\\nu$')\n",
        "  plt.vlines([nu_peak], 0, B_max, color='C1', ls='--', label=f'Peak ({nu_peak:.3e} Hz)')\n",
        "  plt.legend()\n",
        "  plt.show()"
      ],
      "metadata": {
        "id": "aBTzqx3JL0_h"
      },
      "execution_count": 20,
      "outputs": []
    },
    {
      "cell_type": "markdown",
      "source": [
        "# Run the calculations"
      ],
      "metadata": {
        "id": "pAtQQdBxbjsB"
      }
    },
    {
      "cell_type": "code",
      "source": [
        "def produce_benchmarks(data_path, T, workdps=50, outdps=25):\n",
        "  \"\"\"Perform all of the above calculations for the given `T` (Hz).\n",
        "\n",
        "  Read the input file from `data_path`, calculate the integrals, and write the output file.\n",
        "\n",
        "  The `workdps` parameter specifies the number of decimal digits used by `mpmath`\n",
        "  for all calculations.\n",
        "\n",
        "  The `outdps` parameter specifies the number of digits written to the output files.\n",
        "  \"\"\"\n",
        "  with mp.workdps(workdps):\n",
        "    plot_planck_dist(T)\n",
        "    freqs = read_data_file(data_path)\n",
        "    nu_peak = calc_peak_freq(T)\n",
        "    # Prepend peak frequency to frequency list\n",
        "    freqs.insert(0, nu_peak)\n",
        "    integrals = calc_planck_integrals(T, freqs)\n",
        "    filename = 'planck_integrals_{}K.dat'.format(T)\n",
        "    write_output(filename, freqs, integrals, num_digits=25)\n"
      ],
      "metadata": {
        "id": "k-bYOhOh53tT"
      },
      "execution_count": 21,
      "outputs": []
    },
    {
      "cell_type": "code",
      "source": [
        "data_path = './data/phos.dat'"
      ],
      "metadata": {
        "id": "B3lMHmzLlJzR"
      },
      "execution_count": 22,
      "outputs": []
    },
    {
      "cell_type": "code",
      "source": [
        "produce_benchmarks(data_path, T=6007)"
      ],
      "metadata": {
        "colab": {
          "base_uri": "https://localhost:8080/",
          "height": 497,
          "referenced_widgets": [
            "1f6ff7fb0c5d43fe9d59661005ab7ba0",
            "a3944a8976f548289db74b970c636b40",
            "0ef978a56c0c4ba4a0d7126ede8936c1",
            "84f39fda327d4049aa4b68fd495c8a30",
            "4b6c25a0a6a345e2b4c7cea765ca76c1",
            "dd499a676b554536bed1180328c5931a",
            "72bc88cbf9324a75a7931aac97a4d290",
            "b4c498cf8e7b4d71b352ed2b735b113b",
            "1cc2ce091bdf46159cba716ff174445f",
            "43cc27a7d99f404ebd118c7ccf1d1575",
            "b9286ace79b645fa9df36c04368f003f"
          ]
        },
        "id": "cfPUffxUVzF8",
        "outputId": "09e29c31-c11f-46d8-e0b2-2b2b5ca5308a"
      },
      "execution_count": 23,
      "outputs": [
        {
          "output_type": "display_data",
          "data": {
            "text/plain": [
              "<Figure size 640x480 with 1 Axes>"
            ],
            "image/png": "[encoded data removed]"
          },
          "metadata": {}
        },
        {
          "output_type": "display_data",
          "data": {
            "text/plain": [
              "  0%|          | 0/2048 [00:00<?, ?it/s]"
            ],
            "application/vnd.jupyter.widget-view+json": {
              "version_major": 2,
              "version_minor": 0,
              "model_id": "1f6ff7fb0c5d43fe9d59661005ab7ba0"
            }
          },
          "metadata": {}
        }
      ]
    },
    {
      "cell_type": "code",
      "source": [
        "produce_benchmarks(data_path, T=5077)"
      ],
      "metadata": {
        "colab": {
          "base_uri": "https://localhost:8080/",
          "height": 497,
          "referenced_widgets": [
            "2e339a78fd9743a49c8c36afbe60496c",
            "3a89ac629b3843b39ce876dc8cf29dd2",
            "fc9307c6c56a412e94cd8498fe742a58",
            "ffbd1c9794324c9486f14e035982aab9",
            "c05abffc932f4b6f9dda6212e35c36ad",
            "f14e9b83a51a4c5399ba80580944b0fe",
            "abb093f477114ce98867f33cb1868618",
            "6e25fe09747647199a96841b5015f27a",
            "c9b89c8861be4e35874b233473b2553c",
            "2a1daebd30d8411faa2a2cf2a42508ca",
            "6b0d1125a0104db7b5f1ae6ca17a8e4e"
          ]
        },
        "id": "frnb2X3dbJbJ",
        "outputId": "25744b4d-1404-4f6a-94e2-8e4237cf06f4"
      },
      "execution_count": 24,
      "outputs": [
        {
          "output_type": "display_data",
          "data": {
            "text/plain": [
              "<Figure size 640x480 with 1 Axes>"
            ],
            "image/png": "[encoded data removed]"
          },
          "metadata": {}
        },
        {
          "output_type": "display_data",
          "data": {
            "text/plain": [
              "  0%|          | 0/2048 [00:00<?, ?it/s]"
            ],
            "application/vnd.jupyter.widget-view+json": {
              "version_major": 2,
              "version_minor": 0,
              "model_id": "2e339a78fd9743a49c8c36afbe60496c"
            }
          },
          "metadata": {}
        }
      ]
    }
  ]
}